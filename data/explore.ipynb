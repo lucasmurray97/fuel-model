{
 "cells": [
  {
   "cell_type": "code",
   "execution_count": 2,
   "metadata": {},
   "outputs": [],
   "source": [
    "import torch\n",
    "import torch.nn as nn\n",
    "import torchvision\n",
    "import torchvision.transforms as T\n",
    "import torchvision.datasets as D\n",
    "import torch.nn.functional as F\n",
    "import numpy as np\n",
    "import pickle\n",
    "from matplotlib import pyplot as plt\n",
    "from torchvision.io import read_image\n",
    "from torchvision import transforms\n",
    "from torch.utils.data import DataLoader\n",
    "import fiona\n",
    "import rasterio\n",
    "import rasterio.mask\n",
    "import pathlib\n",
    "import pandas as pd\n",
    "import os\n",
    "import rioxarray\n",
    "import sys\n",
    "from tqdm import tqdm\n",
    "sys.path.append(\"../src/\")\n",
    "from networks.ModisTempNet import ModisTempNet"
   ]
  },
  {
   "cell_type": "code",
   "execution_count": 7,
   "metadata": {},
   "outputs": [],
   "source": [
    "root=\"./Ventanas\"\n",
    "classification = pd.read_csv(f'{root}/database.csv')\n",
    "unique_classes = classification.clase.unique()\n",
    "translation = {}\n",
    "for i, j in zip(unique_classes, [k for k in range(len(unique_classes))]):\n",
    "    translation[i] = j\n",
    "n_classes = len(translation)"
   ]
  },
  {
   "cell_type": "code",
   "execution_count": 26,
   "metadata": {},
   "outputs": [],
   "source": [
    "imgs = os.listdir(f\"{root}/\")\n",
    "mins = {}\n",
    "maxes = {}\n",
    "for i in imgs:\n",
    "    if i.split(\".\")[1] == \"tif\" and len(i.split(\".\")) == 2:\n",
    "        src = rasterio.open(root + \"/\" + i)\n",
    "        mask = src.dataset_mask()\n",
    "        data = src.read()\n",
    "        for band in range(data.shape[0]):\n",
    "            if band in maxes.keys():\n",
    "\n",
    "                if np.max(data[band]) > maxes[band]:\n",
    "                    maxes[band] = np.max(data[band])\n",
    "                if np.min(data[band]) < mins[band]:\n",
    "                    mins[band] = np.min(data[band])\n",
    "            else:\n",
    "                maxes[band] = np.max(data[band])\n",
    "                mins[band] = np.min(data[band])\n",
    "for band in range(data.shape[0]):\n",
    "    mins[band] -= 1"
   ]
  },
  {
   "cell_type": "code",
   "execution_count": 27,
   "metadata": {},
   "outputs": [
    {
     "data": {
      "text/plain": [
       "-4582.60107421875"
      ]
     },
     "execution_count": 27,
     "metadata": {},
     "output_type": "execute_result"
    }
   ],
   "source": [
    "min(mins.values())"
   ]
  },
  {
   "cell_type": "code",
   "execution_count": 25,
   "metadata": {},
   "outputs": [
    {
     "data": {
      "text/plain": [
       "{0: 359.02267,\n",
       " 1: 72.81767,\n",
       " 2: 42.0,\n",
       " 3: 130.8,\n",
       " 4: 4945.9272,\n",
       " 5: 16000.903,\n",
       " 6: 15969.746,\n",
       " 7: 15712.811,\n",
       " 8: 15545.911,\n",
       " 9: 15580.33,\n",
       " 10: 15392.989,\n",
       " 11: 15483.522,\n",
       " 12: 15272.251,\n",
       " 13: 6378.4575,\n",
       " 14: 5336.0,\n",
       " 15: 99.80616,\n",
       " 16: 0.9812146,\n",
       " 17: 97.37583,\n",
       " 18: 95.70563,\n",
       " 19: 0.96271145,\n",
       " 20: 3.4386322,\n",
       " 21: 1.0,\n",
       " 22: 1.0,\n",
       " 23: 3.631598,\n",
       " 24: 13.298929,\n",
       " 25: 427.47595,\n",
       " 26: 1.0,\n",
       " 27: 1.0,\n",
       " 28: 6.4465914,\n",
       " 29: 9293.079,\n",
       " 30: 9148.152,\n",
       " 31: 8836.59,\n",
       " 32: 7984.9365,\n",
       " 33: 7817.0737,\n",
       " 34: 7061.9585,\n",
       " 35: 7278.897,\n",
       " 36: 6360.9575,\n",
       " 37: 6572.528,\n",
       " 38: 6648.986,\n",
       " 39: 93.71342,\n",
       " 40: 1.0,\n",
       " 41: 95.589714,\n",
       " 42: 94.02116,\n",
       " 43: 1.4169925,\n",
       " 44: 5.499763,\n",
       " 45: 1.0,\n",
       " 46: 1.0,\n",
       " 47: 4.10443,\n",
       " 48: 12.767155,\n",
       " 49: 267.63876,\n",
       " 50: 0.9991404,\n",
       " 51: 0.9773291,\n",
       " 52: 6.4278984,\n",
       " 53: 16.763245,\n",
       " 54: 7.222836,\n",
       " 55: 1001.43787,\n",
       " 56: 5.2855086,\n",
       " 57: 3.4812465,\n",
       " 58: 1.0886546,\n",
       " 59: 21.751287,\n",
       " 60: 9.262102,\n",
       " 61: 2047.4321,\n",
       " 62: 4.7523537,\n",
       " 63: 3.5345469,\n",
       " 64: 0.8902169,\n",
       " 65: 5.7772074,\n",
       " 66: 0.9996719,\n",
       " 67: 0.93304616,\n",
       " 68: 0.45052296,\n",
       " 69: 0.022622185,\n",
       " 70: 290.84903}"
      ]
     },
     "execution_count": 25,
     "metadata": {},
     "output_type": "execute_result"
    }
   ],
   "source": [
    "maxes"
   ]
  },
  {
   "cell_type": "code",
   "execution_count": null,
   "metadata": {},
   "outputs": [],
   "source": []
  }
 ],
 "metadata": {
  "kernelspec": {
   "display_name": "venv",
   "language": "python",
   "name": "python3"
  },
  "language_info": {
   "codemirror_mode": {
    "name": "ipython",
    "version": 3
   },
   "file_extension": ".py",
   "mimetype": "text/x-python",
   "name": "python",
   "nbconvert_exporter": "python",
   "pygments_lexer": "ipython3",
   "version": "3.11.6"
  }
 },
 "nbformat": 4,
 "nbformat_minor": 2
}
