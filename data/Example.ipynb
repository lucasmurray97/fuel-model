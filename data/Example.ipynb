{
 "cells": [
  {
   "cell_type": "code",
   "execution_count": 1,
   "id": "ceeffb80-c63b-47d7-8d18-0626e392d9c7",
   "metadata": {},
   "outputs": [],
   "source": [
    "import torch\n",
    "import torch.nn as nn\n",
    "import torchvision\n",
    "import torchvision.transforms as T\n",
    "import torchvision.datasets as D\n",
    "import torch.nn.functional as F\n",
    "import numpy as np\n",
    "import pickle\n",
    "from matplotlib import pyplot as plt\n",
    "from torchvision.io import read_image\n",
    "from torchvision import transforms\n",
    "from torch.utils.data import DataLoader\n",
    "import fiona\n",
    "import rasterio\n",
    "import rasterio.mask\n",
    "import pathlib\n",
    "import pandas as pd\n",
    "import os\n",
    "import rioxarray\n",
    "import sys\n",
    "from tqdm import tqdm\n",
    "sys.path.append(\"../src/\")\n",
    "from networks.ModisTempNet import ModisTempNet"
   ]
  },
  {
   "cell_type": "code",
   "execution_count": 2,
   "id": "09403e7f-e628-4850-8169-7c2d77474c2d",
   "metadata": {},
   "outputs": [],
   "source": [
    "class MyDataset(torch.utils.data.Dataset):\n",
    "    \"\"\"Creates dataset that sampes: (landscape, class).\n",
    "    Args:\n",
    "        root (str): directory where data is being stored\n",
    "        tform (Transform): tranformation to be applied at sampling time.\n",
    "    \"\"\"\n",
    "    def __init__(self, root=\"./Ventanas\", tform=None):\n",
    "        super(MyDataset, self).__init__()\n",
    "        self.root = root\n",
    "        self.classification = pd.read_csv(f'{self.root}/database.csv')\n",
    "        unique_classes = self.classification.clase.unique()\n",
    "        self.translation = {}\n",
    "        for i, j in zip(unique_classes, [k for k in range(len(unique_classes))]):\n",
    "            self.translation[i] = j\n",
    "        self.n_classes = len(self.translation)\n",
    "        self.transform = tform\n",
    "        imgs = os.listdir(f\"{self.root}/\")\n",
    "        self.maxes = {}\n",
    "        self.mins = {}\n",
    "        for i in imgs:\n",
    "            if i.split(\".\")[1] == \"tif\" and len(i.split(\".\")) == 2:\n",
    "                src = rasterio.open(self.root + \"/\" + i)\n",
    "                data = src.read()\n",
    "                for band in range(data.shape[0]):\n",
    "                    if band in self.maxes.keys():\n",
    "                        if np.max(data[band]) > self.maxes[band]:\n",
    "                            self.maxes[band] = np.max(data[band])\n",
    "                        if np.min(data[band]) < self.mins[band]:\n",
    "                            self.mins[band] = np.min(data[band])\n",
    "                    else:\n",
    "                        self.maxes[band] = np.max(data[band])\n",
    "                        self.mins[band] = np.min(data[band])\n",
    "        for band in range(data.shape[0]):\n",
    "            self.mins[band] -= 1\n",
    "        \n",
    "        \n",
    "    def __len__(self):\n",
    "        return len(self.classification)\n",
    "    \n",
    "    def __getitem__(self, i):\n",
    "        id_, class_ = self.classification.iloc[i]\n",
    "        src = rasterio.open(f'{self.root}/ID{id_}.tif')\n",
    "        data = src.read()\n",
    "        n_class = self.translation[class_]\n",
    "        y = torch.zeros(self.n_classes)\n",
    "        y[n_class] = 1.\n",
    "        x = torch.from_numpy(data[:,:10,:10])\n",
    "        n_bands = x.shape[0]\n",
    "        for i in range(n_bands):\n",
    "            x[i] = torch.where(torch.isnan(x[i]), self.mins[i], x[i])\n",
    "        if torch.isnan(x).sum():\n",
    "            print(x)\n",
    "            print(\"Error\")\n",
    "        for band in range(n_bands):\n",
    "            x[band] = (x[band] - self.mins[band]) / (self.maxes[band] - self.mins[band])\n",
    "        if self.transform:\n",
    "            x = self.transform(x)\n",
    "        return x, y"
   ]
  },
  {
   "cell_type": "code",
   "execution_count": 3,
   "id": "bd80c36a-4676-4acd-8a69-6a0550cc7cad",
   "metadata": {},
   "outputs": [],
   "source": [
    "class Resize(object):\n",
    "    def __call__(self, x):\n",
    "        x = transforms.functional.resize(x, size = 256, interpolation = transforms.InterpolationMode.NEAREST_EXACT)\n",
    "        return x"
   ]
  },
  {
   "cell_type": "code",
   "execution_count": 4,
   "id": "652ba5ca-dbe7-442c-b91e-a5c49123d242",
   "metadata": {},
   "outputs": [],
   "source": [
    "transform = transforms.Compose([Resize()])"
   ]
  },
  {
   "cell_type": "code",
   "execution_count": 5,
   "id": "893bbd9f-96ea-4809-ae92-538e98b8f8ba",
   "metadata": {},
   "outputs": [],
   "source": [
    "dataset = MyDataset(tform = transform)"
   ]
  },
  {
   "cell_type": "code",
   "execution_count": 6,
   "id": "73581676-7b86-49db-af6d-7e3e5679d3ac",
   "metadata": {},
   "outputs": [],
   "source": [
    "train_dataset, validation_dataset, test_dataset =torch.utils.data.random_split(dataset, [0.8, 0.1, 0.1])\n",
    "train_loader = torch.utils.data.DataLoader(train_dataset, batch_size=8)\n",
    "validation_loader = torch.utils.data.DataLoader(validation_dataset, batch_size=8)\n",
    "test_loader = torch.utils.data.DataLoader(train_dataset, batch_size=8)"
   ]
  },
  {
   "cell_type": "code",
   "execution_count": 7,
   "id": "64a1753c",
   "metadata": {},
   "outputs": [
    {
     "data": {
      "text/plain": [
       "ModisTempNet(\n",
       "  (conv1): Conv2d(71, 16, kernel_size=(3, 3), stride=(1, 1))\n",
       "  (bn1): BatchNorm2d(16, eps=1e-05, momentum=0.1, affine=True, track_running_stats=True)\n",
       "  (max_pool_1): MaxPool2d(kernel_size=2, stride=2, padding=0, dilation=1, ceil_mode=False)\n",
       "  (conv2): Conv2d(16, 32, kernel_size=(3, 3), stride=(1, 1))\n",
       "  (bn2): BatchNorm2d(32, eps=1e-05, momentum=0.1, affine=True, track_running_stats=True)\n",
       "  (max_pool_2): MaxPool2d(kernel_size=3, stride=3, padding=0, dilation=1, ceil_mode=False)\n",
       "  (conv3): Conv2d(32, 32, kernel_size=(3, 3), stride=(1, 1))\n",
       "  (bn3): BatchNorm2d(32, eps=1e-05, momentum=0.1, affine=True, track_running_stats=True)\n",
       "  (max_pool_3): MaxPool2d(kernel_size=3, stride=3, padding=0, dilation=1, ceil_mode=False)\n",
       "  (fc_1): Linear(in_features=5408, out_features=256, bias=True)\n",
       "  (bn4): BatchNorm1d(256, eps=1e-05, momentum=0.1, affine=True, track_running_stats=True)\n",
       "  (fc_2): Linear(in_features=256, out_features=128, bias=True)\n",
       "  (bn5): BatchNorm1d(128, eps=1e-05, momentum=0.1, affine=True, track_running_stats=True)\n",
       "  (fc_3): Linear(in_features=128, out_features=20, bias=True)\n",
       "  (softmax): Softmax(dim=1)\n",
       "  (loss_func): CrossEntropyLoss()\n",
       ")"
      ]
     },
     "execution_count": 7,
     "metadata": {},
     "output_type": "execute_result"
    }
   ],
   "source": [
    "net = ModisTempNet()\n",
    "net.cuda()"
   ]
  },
  {
   "cell_type": "code",
   "execution_count": 8,
   "id": "a9363a9c-8865-49a2-a834-3a80d8240a88",
   "metadata": {},
   "outputs": [
    {
     "name": "stderr",
     "output_type": "stream",
     "text": [
      "  0%|          | 0/2 [00:00<?, ?it/s]/home/lu/Desktop/Trabajo/fuel-model/venv/lib/python3.11/site-packages/torch/nn/modules/conv.py:456: UserWarning: Applied workaround for CuDNN issue, install nvrtc.so (Triggered internally at ../aten/src/ATen/native/cudnn/Conv_v8.cpp:80.)\n",
      "  return F.conv2d(input, weight, bias, self.stride,\n",
      "100%|██████████| 2/2 [02:49<00:00, 84.60s/it]\n"
     ]
    },
    {
     "data": {
      "image/png": "[encoded data removed]",
      "text/plain": [
       "<Figure size 640x480 with 1 Axes>"
      ]
     },
     "metadata": {},
     "output_type": "display_data"
    }
   ],
   "source": [
    "epochs = 2\n",
    "optimizer = torch.optim.Adam(net.parameters())\n",
    "for epoch in tqdm(range(epochs)):\n",
    "    for x, y in train_loader:\n",
    "        net.zero_grad()\n",
    "        pred = net(x.cuda())\n",
    "        loss = net.train_loss(pred, y.cuda())\n",
    "        loss.backward()\n",
    "        optimizer.step()\n",
    "    \n",
    "    for x, y in validation_loader:\n",
    "        pred = net(x.cuda())\n",
    "        loss = net.val_loss(pred, y.cuda())\n",
    "    net.reset_losses()\n",
    "net.plot_loss(epochs=epochs)\n",
    "\n"
   ]
  },
  {
   "cell_type": "markdown",
   "id": "850e90d5",
   "metadata": {},
   "source": []
  },
  {
   "cell_type": "markdown",
   "id": "554dbe66",
   "metadata": {},
   "source": []
  },
  {
   "cell_type": "code",
   "execution_count": null,
   "id": "46c38968",
   "metadata": {},
   "outputs": [
    {
     "data": {
      "text/plain": [
       "[0.0, 0.0, 0.0, 0.0, 0.0]"
      ]
     },
     "execution_count": 13,
     "metadata": {},
     "output_type": "execute_result"
    }
   ],
   "source": [
    "net.validation_loss"
   ]
  },
  {
   "cell_type": "code",
   "execution_count": null,
   "id": "4c0b6611",
   "metadata": {},
   "outputs": [],
   "source": []
  }
 ],
 "metadata": {
  "kernelspec": {
   "display_name": "Python 3 (ipykernel)",
   "language": "python",
   "name": "python3"
  },
  "language_info": {
   "codemirror_mode": {
    "name": "ipython",
    "version": 3
   },
   "file_extension": ".py",
   "mimetype": "text/x-python",
   "name": "python",
   "nbconvert_exporter": "python",
   "pygments_lexer": "ipython3",
   "version": "3.11.6"
  }
 },
 "nbformat": 4,
 "nbformat_minor": 5
}
